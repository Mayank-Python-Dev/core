{
 "cells": [
  {
   "cell_type": "code",
   "execution_count": 2,
   "id": "18e04e38",
   "metadata": {},
   "outputs": [],
   "source": [
    "from ecommerce.models import Product\n",
    "from django.db.models import (\n",
    "    OuterRef,\n",
    "    Count,\n",
    "    ExpressionWrapper,\n",
    "    IntegerField,\n",
    "    Sum,\n",
    "    F,\n",
    "    Q,\n",
    "    functions,\n",
    "    Value\n",
    ")\n",
    "from django.contrib.auth.models import User"
   ]
  },
  {
   "cell_type": "code",
   "execution_count": 3,
   "id": "619e9226",
   "metadata": {
    "scrolled": true
   },
   "outputs": [
    {
     "data": {
      "text/plain": [
       "<QuerySet [<Product: Compression T-Shirt For Men & Women>, <Product: Solid Polo Collar Slim Fit T-shirt>, <Product: Women Deandra Watch & Bracelet Set Gift Set JWBS769>]>"
      ]
     },
     "execution_count": 3,
     "metadata": {},
     "output_type": "execute_result"
    }
   ],
   "source": [
    "Product.objects.all()"
   ]
  },
  {
   "cell_type": "code",
   "execution_count": 4,
   "id": "12df4596",
   "metadata": {},
   "outputs": [],
   "source": [
    "# Using Annotate"
   ]
  },
  {
   "cell_type": "code",
   "execution_count": 5,
   "id": "49299151",
   "metadata": {},
   "outputs": [
    {
     "data": {
      "text/plain": [
       "<QuerySet [{'final_price': 998.0}, {'final_price': 2995.0}, {'final_price': 3198.0}]>"
      ]
     },
     "execution_count": 5,
     "metadata": {},
     "output_type": "execute_result"
    }
   ],
   "source": [
    "Order.objects.annotate(final_price = F(\"product__price\") * F(\"quantity\")).values(\"final_price\")"
   ]
  },
  {
   "cell_type": "code",
   "execution_count": 6,
   "id": "df342b3c",
   "metadata": {},
   "outputs": [
    {
     "data": {
      "text/plain": [
       "3"
      ]
     },
     "execution_count": 6,
     "metadata": {},
     "output_type": "execute_result"
    }
   ],
   "source": [
    "# Product.objects.update(price = F(\"price\") - 1.0)"
   ]
  },
  {
   "cell_type": "code",
   "execution_count": 7,
   "id": "4a271e0c",
   "metadata": {},
   "outputs": [
    {
     "data": {
      "text/plain": [
       "<QuerySet [<Product: Compression T-Shirt For Men & Women>, <Product: Solid Polo Collar Slim Fit T-shirt>, <Product: Women Deandra Watch & Bracelet Set Gift Set JWBS769>]>"
      ]
     },
     "execution_count": 7,
     "metadata": {},
     "output_type": "execute_result"
    }
   ],
   "source": [
    "Product.objects.all()"
   ]
  },
  {
   "cell_type": "code",
   "execution_count": 8,
   "id": "db2417d8",
   "metadata": {},
   "outputs": [
    {
     "data": {
      "text/plain": [
       "<QuerySet [<Order: mayank -- Women Deandra Watch & Bracelet Set Gift Set JWBS769>]>"
      ]
     },
     "execution_count": 8,
     "metadata": {},
     "output_type": "execute_result"
    }
   ],
   "source": [
    "Product.objects.first().customer_product.all()"
   ]
  },
  {
   "cell_type": "code",
   "execution_count": 9,
   "id": "4600c28d",
   "metadata": {},
   "outputs": [
    {
     "data": {
      "text/plain": [
       "<QuerySet [{'username': 'deq', 'id': 1, 'total_orders': None}, {'username': 'mayank', 'id': 2, 'total_orders': 3}]>"
      ]
     },
     "execution_count": 9,
     "metadata": {},
     "output_type": "execute_result"
    }
   ],
   "source": [
    "User.objects.all().values(\"username\",\"id\").annotate(\n",
    "    total_orders = Order.objects.filter(\n",
    "        customer_id = OuterRef(\"id\")\n",
    "    ).values(\"customer_id\").annotate(total_orders=functions.Coalesce(Count('customer_id'), Value(0))).values(\"total_orders\"),\n",
    ")\n"
   ]
  },
  {
   "cell_type": "code",
   "execution_count": 10,
   "id": "f23697e1",
   "metadata": {},
   "outputs": [],
   "source": [
    "from blog.models import (\n",
    "    Post,\n",
    "    Categories\n",
    ")"
   ]
  },
  {
   "cell_type": "code",
   "execution_count": null,
   "id": "2cdb6b56",
   "metadata": {},
   "outputs": [],
   "source": []
  },
  {
   "cell_type": "code",
   "execution_count": null,
   "id": "662c8553",
   "metadata": {},
   "outputs": [],
   "source": []
  }
 ],
 "metadata": {
  "kernelspec": {
   "display_name": "Django Shell-Plus",
   "language": "python",
   "name": "django_extensions"
  },
  "language_info": {
   "codemirror_mode": {
    "name": "ipython",
    "version": 3
   },
   "file_extension": ".py",
   "mimetype": "text/x-python",
   "name": "python",
   "nbconvert_exporter": "python",
   "pygments_lexer": "ipython3",
   "version": "3.8.10"
  }
 },
 "nbformat": 4,
 "nbformat_minor": 5
}
