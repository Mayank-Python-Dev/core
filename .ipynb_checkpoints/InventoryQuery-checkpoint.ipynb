{
 "cells": [
  {
   "cell_type": "code",
   "execution_count": 1,
   "id": "0bcdbd66",
   "metadata": {},
   "outputs": [],
   "source": [
    "from inventory.models import (\n",
    "    Brand,\n",
    "    Category,\n",
    "    Product,\n",
    "    Order\n",
    ")"
   ]
  },
  {
   "cell_type": "code",
   "execution_count": 2,
   "id": "d64ced01",
   "metadata": {},
   "outputs": [
    {
     "data": {
      "text/plain": [
       "<QuerySet [<Product: Men Relaxed Fit Mid Rise Blue Jeans>, <Product: Motorola Edge 50 Fusion (Marshmallow Blue, 256 GB)  (12 GB RAM)>, <Product: SAMSUNG 8 kg 5 star, Ecobubble, Digital Inverter, Fully Automatic Top Load Washing Machine Grey>]>"
      ]
     },
     "execution_count": 2,
     "metadata": {},
     "output_type": "execute_result"
    }
   ],
   "source": [
    "Product.objects.all()"
   ]
  },
  {
   "cell_type": "code",
   "execution_count": 3,
   "id": "a2371eb7",
   "metadata": {},
   "outputs": [],
   "source": [
    "from django.db.models import (\n",
    "    Count,\n",
    "    F,\n",
    "    Sum,\n",
    "    OuterRef,\n",
    "    Value,\n",
    "    IntegerField,\n",
    "    Prefetch,\n",
    "    Q,\n",
    "    ExpressionWrapper,\n",
    "    functions,\n",
    "    CharField,\n",
    "    Case,\n",
    "    When,\n",
    "    Func\n",
    ")"
   ]
  },
  {
   "cell_type": "code",
   "execution_count": 24,
   "id": "cf4a975e",
   "metadata": {},
   "outputs": [
    {
     "ename": "NameError",
     "evalue": "name 'Func' is not defined",
     "output_type": "error",
     "traceback": [
      "\u001b[0;31m---------------------------------------------------------------------------\u001b[0m",
      "\u001b[0;31mNameError\u001b[0m                                 Traceback (most recent call last)",
      "Cell \u001b[0;32mIn[24], line 2\u001b[0m\n\u001b[1;32m      1\u001b[0m get_product_with_total_price \u001b[38;5;241m=\u001b[39m Order\u001b[38;5;241m.\u001b[39mobjects\u001b[38;5;241m.\u001b[39mall()\u001b[38;5;241m.\u001b[39mannotate(total_price \u001b[38;5;241m=\u001b[39m Product\u001b[38;5;241m.\u001b[39mobjects\u001b[38;5;241m.\u001b[39mfilter(uuid \u001b[38;5;241m=\u001b[39m OuterRef(\u001b[38;5;124m\"\u001b[39m\u001b[38;5;124mproduct__uuid\u001b[39m\u001b[38;5;124m\"\u001b[39m))\u001b[38;5;241m.\u001b[39mvalues(\u001b[38;5;124m\"\u001b[39m\u001b[38;5;124mprice\u001b[39m\u001b[38;5;124m\"\u001b[39m),\n\u001b[0;32m----> 2\u001b[0m                                                            created_at \u001b[38;5;241m=\u001b[39m \u001b[43mFunc\u001b[49m(\n\u001b[1;32m      3\u001b[0m     F(\u001b[38;5;124m'\u001b[39m\u001b[38;5;124mcreated_at\u001b[39m\u001b[38;5;124m'\u001b[39m),\n\u001b[1;32m      4\u001b[0m     Value(\u001b[38;5;124m'\u001b[39m\u001b[38;5;124mDD-MM-YYYY HH:MM:SS\u001b[39m\u001b[38;5;124m'\u001b[39m),\n\u001b[1;32m      5\u001b[0m     function\u001b[38;5;241m=\u001b[39m\u001b[38;5;124m'\u001b[39m\u001b[38;5;124mto_char\u001b[39m\u001b[38;5;124m'\u001b[39m,\n\u001b[1;32m      6\u001b[0m     output_field\u001b[38;5;241m=\u001b[39mCharField()\n\u001b[1;32m      7\u001b[0m   ))\u001b[38;5;241m.\u001b[39mannotate(total_price \u001b[38;5;241m=\u001b[39m F(\u001b[38;5;124m\"\u001b[39m\u001b[38;5;124mquantity\u001b[39m\u001b[38;5;124m\"\u001b[39m) \u001b[38;5;241m*\u001b[39m F(\u001b[38;5;124m\"\u001b[39m\u001b[38;5;124mtotal_price\u001b[39m\u001b[38;5;124m\"\u001b[39m))\n",
      "\u001b[0;31mNameError\u001b[0m: name 'Func' is not defined"
     ]
    }
   ],
   "source": [
    "get_product_with_total_price = Order.objects.all().annotate(total_price = Product.objects.filter(uuid = OuterRef(\"product__uuid\")).values(\"price\"),\n",
    "                                                           created_at = Func(\n",
    "    F('created_at'),\n",
    "    Value('DD-MM-YYYY HH:MM:SS'),\n",
    "    function='to_char',\n",
    "    output_field=CharField()\n",
    "  )).annotate(total_price = F(\"quantity\") * F(\"total_price\"))"
   ]
  },
  {
   "cell_type": "code",
   "execution_count": 20,
   "id": "2626d353",
   "metadata": {},
   "outputs": [
    {
     "data": {
      "text/plain": [
       "<QuerySet [<Order: Men Relaxed Fit Mid Rise Blue Jeans>, <Order: Motorola Edge 50 Fusion (Marshmallow Blue, 256 GB)  (12 GB RAM)>, <Order: SAMSUNG 8 kg 5 star, Ecobubble, Digital Inverter, Fully Automatic Top Load Washing Machine Grey>]>"
      ]
     },
     "execution_count": 20,
     "metadata": {},
     "output_type": "execute_result"
    }
   ],
   "source": [
    "get_product_with_total_price"
   ]
  },
  {
   "cell_type": "code",
   "execution_count": 21,
   "id": "393fb6d2",
   "metadata": {},
   "outputs": [],
   "source": [
    "from django_pandas.io import read_frame"
   ]
  },
  {
   "cell_type": "code",
   "execution_count": 22,
   "id": "8a28e7ed",
   "metadata": {},
   "outputs": [],
   "source": [
    "df = read_frame(get_product_with_total_price)"
   ]
  },
  {
   "cell_type": "code",
   "execution_count": 23,
   "id": "1a3b9f26",
   "metadata": {},
   "outputs": [
    {
     "data": {
      "text/html": [
       "<div>\n",
       "<style scoped>\n",
       "    .dataframe tbody tr th:only-of-type {\n",
       "        vertical-align: middle;\n",
       "    }\n",
       "\n",
       "    .dataframe tbody tr th {\n",
       "        vertical-align: top;\n",
       "    }\n",
       "\n",
       "    .dataframe thead th {\n",
       "        text-align: right;\n",
       "    }\n",
       "</style>\n",
       "<table border=\"1\" class=\"dataframe\">\n",
       "  <thead>\n",
       "    <tr style=\"text-align: right;\">\n",
       "      <th></th>\n",
       "      <th>uuid</th>\n",
       "      <th>created_at</th>\n",
       "      <th>updated_at</th>\n",
       "      <th>customer</th>\n",
       "      <th>product</th>\n",
       "      <th>quantity</th>\n",
       "      <th>total_price</th>\n",
       "    </tr>\n",
       "  </thead>\n",
       "  <tbody>\n",
       "    <tr>\n",
       "      <th>0</th>\n",
       "      <td>e0d52cd0-e5e8-446b-a9a5-03184371052e</td>\n",
       "      <td>2024-07-03 09:12:30.158598+00:00</td>\n",
       "      <td>2024-07-03 09:14:04.341337+00:00</td>\n",
       "      <td>Mayank</td>\n",
       "      <td>Men Relaxed Fit Mid Rise Blue Jeans</td>\n",
       "      <td>2</td>\n",
       "      <td>998.0</td>\n",
       "    </tr>\n",
       "    <tr>\n",
       "      <th>1</th>\n",
       "      <td>0a85a725-af8a-40e2-b05e-014495c73a08</td>\n",
       "      <td>2024-07-03 09:54:18.013494+00:00</td>\n",
       "      <td>2024-07-03 09:56:14.782451+00:00</td>\n",
       "      <td>Mayank</td>\n",
       "      <td>Motorola Edge 50 Fusion (Marshmallow Blue, 256...</td>\n",
       "      <td>1</td>\n",
       "      <td>24999.0</td>\n",
       "    </tr>\n",
       "    <tr>\n",
       "      <th>2</th>\n",
       "      <td>b886f58b-8785-43d5-a106-44d85a34f7f2</td>\n",
       "      <td>2024-07-03 09:54:29.361246+00:00</td>\n",
       "      <td>2024-07-03 09:54:29.361315+00:00</td>\n",
       "      <td>Deqode</td>\n",
       "      <td>SAMSUNG 8 kg 5 star, Ecobubble, Digital Invert...</td>\n",
       "      <td>3</td>\n",
       "      <td>58470.0</td>\n",
       "    </tr>\n",
       "  </tbody>\n",
       "</table>\n",
       "</div>"
      ],
      "text/plain": [
       "                                   uuid                       created_at  \\\n",
       "0  e0d52cd0-e5e8-446b-a9a5-03184371052e 2024-07-03 09:12:30.158598+00:00   \n",
       "1  0a85a725-af8a-40e2-b05e-014495c73a08 2024-07-03 09:54:18.013494+00:00   \n",
       "2  b886f58b-8785-43d5-a106-44d85a34f7f2 2024-07-03 09:54:29.361246+00:00   \n",
       "\n",
       "                        updated_at customer  \\\n",
       "0 2024-07-03 09:14:04.341337+00:00   Mayank   \n",
       "1 2024-07-03 09:56:14.782451+00:00   Mayank   \n",
       "2 2024-07-03 09:54:29.361315+00:00   Deqode   \n",
       "\n",
       "                                             product  quantity  total_price  \n",
       "0                Men Relaxed Fit Mid Rise Blue Jeans         2        998.0  \n",
       "1  Motorola Edge 50 Fusion (Marshmallow Blue, 256...         1      24999.0  \n",
       "2  SAMSUNG 8 kg 5 star, Ecobubble, Digital Invert...         3      58470.0  "
      ]
     },
     "execution_count": 23,
     "metadata": {},
     "output_type": "execute_result"
    }
   ],
   "source": [
    "df"
   ]
  },
  {
   "cell_type": "code",
   "execution_count": null,
   "id": "30d2791e",
   "metadata": {},
   "outputs": [],
   "source": []
  }
 ],
 "metadata": {
  "kernelspec": {
   "display_name": "Django Shell-Plus",
   "language": "python",
   "name": "django_extensions"
  },
  "language_info": {
   "codemirror_mode": {
    "name": "ipython",
    "version": 3
   },
   "file_extension": ".py",
   "mimetype": "text/x-python",
   "name": "python",
   "nbconvert_exporter": "python",
   "pygments_lexer": "ipython3",
   "version": "3.8.10"
  }
 },
 "nbformat": 4,
 "nbformat_minor": 5
}
