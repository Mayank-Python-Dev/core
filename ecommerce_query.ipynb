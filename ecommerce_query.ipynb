{
 "cells": [
  {
   "cell_type": "code",
   "execution_count": 6,
   "id": "18e04e38",
   "metadata": {},
   "outputs": [],
   "source": [
    "from ecommerce.models import Product\n",
    "from django.db.models import (\n",
    "    OuterRef,\n",
    "    Count,\n",
    "    ExpressionWrapper,\n",
    "    IntegerField,\n",
    "    Sum,\n",
    "    F\n",
    ")"
   ]
  },
  {
   "cell_type": "code",
   "execution_count": 7,
   "id": "619e9226",
   "metadata": {
    "scrolled": true
   },
   "outputs": [
    {
     "data": {
      "text/plain": [
       "<QuerySet [<Product: Compression T-Shirt For Men & Women>, <Product: Solid Polo Collar Slim Fit T-shirt>, <Product: Women Deandra Watch & Bracelet Set Gift Set JWBS769>]>"
      ]
     },
     "execution_count": 7,
     "metadata": {},
     "output_type": "execute_result"
    }
   ],
   "source": [
    "Product.objects.all()"
   ]
  },
  {
   "cell_type": "code",
   "execution_count": 8,
   "id": "12df4596",
   "metadata": {},
   "outputs": [],
   "source": [
    "# Using Annotate"
   ]
  },
  {
   "cell_type": "code",
   "execution_count": 17,
   "id": "49299151",
   "metadata": {},
   "outputs": [
    {
     "data": {
      "text/plain": [
       "<QuerySet [{'final_price': 998.0}, {'final_price': 2995.0}, {'final_price': 3198.0}]>"
      ]
     },
     "execution_count": 17,
     "metadata": {},
     "output_type": "execute_result"
    }
   ],
   "source": [
    "Order.objects.annotate(final_price = F(\"product__price\") * F(\"quantity\")).values(\"final_price\")"
   ]
  },
  {
   "cell_type": "code",
   "execution_count": null,
   "id": "db2417d8",
   "metadata": {},
   "outputs": [],
   "source": []
  }
 ],
 "metadata": {
  "kernelspec": {
   "display_name": "Django Shell-Plus",
   "language": "python",
   "name": "django_extensions"
  },
  "language_info": {
   "codemirror_mode": {
    "name": "ipython",
    "version": 3
   },
   "file_extension": ".py",
   "mimetype": "text/x-python",
   "name": "python",
   "nbconvert_exporter": "python",
   "pygments_lexer": "ipython3",
   "version": "3.8.10"
  }
 },
 "nbformat": 4,
 "nbformat_minor": 5
}
