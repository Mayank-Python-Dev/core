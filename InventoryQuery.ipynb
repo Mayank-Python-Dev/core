{
 "cells": [
  {
   "cell_type": "code",
   "execution_count": 1,
   "id": "0bcdbd66",
   "metadata": {},
   "outputs": [],
   "source": [
    "from inventory.models import (\n",
    "    Brand,\n",
    "    Category,\n",
    "    Product,\n",
    "    Order\n",
    ")\n",
    "from django.contrib.auth.models import User"
   ]
  },
  {
   "cell_type": "code",
   "execution_count": 2,
   "id": "d64ced01",
   "metadata": {},
   "outputs": [
    {
     "data": {
      "text/plain": [
       "<QuerySet [<Product: Men Relaxed Fit Mid Rise Blue Jeans>, <Product: Motorola Edge 50 Fusion (Marshmallow Blue, 256 GB)  (12 GB RAM)>, <Product: SAMSUNG 8 kg 5 star, Ecobubble, Digital Inverter, Fully Automatic Top Load Washing Machine Grey>, <Product: SAMSUNG 8.5 kg Semi Automatic Top Load Washing Machine Black, Grey>]>"
      ]
     },
     "execution_count": 2,
     "metadata": {},
     "output_type": "execute_result"
    }
   ],
   "source": [
    "Product.objects.all()"
   ]
  },
  {
   "cell_type": "code",
   "execution_count": 3,
   "id": "a2371eb7",
   "metadata": {},
   "outputs": [],
   "source": [
    "from django.db.models import (\n",
    "    Count,\n",
    "    F,\n",
    "    Sum,\n",
    "    OuterRef,\n",
    "    Value,\n",
    "    IntegerField,\n",
    "    Prefetch,\n",
    "    Q,\n",
    "    ExpressionWrapper,\n",
    "    functions,\n",
    "    CharField,\n",
    "    Case,\n",
    "    When,\n",
    "    Func\n",
    ")"
   ]
  },
  {
   "cell_type": "code",
   "execution_count": 4,
   "id": "cf4a975e",
   "metadata": {},
   "outputs": [],
   "source": [
    "get_product_with_total_price = Order.objects.all().annotate(total_price = Product.objects.filter(uuid = OuterRef(\"product__uuid\")).values(\"price\")).annotate(total_price = F(\"quantity\") * F(\"total_price\"))"
   ]
  },
  {
   "cell_type": "code",
   "execution_count": 5,
   "id": "2626d353",
   "metadata": {},
   "outputs": [
    {
     "data": {
      "text/plain": [
       "<QuerySet [<Order: Men Relaxed Fit Mid Rise Blue Jeans>, <Order: Motorola Edge 50 Fusion (Marshmallow Blue, 256 GB)  (12 GB RAM)>, <Order: SAMSUNG 8 kg 5 star, Ecobubble, Digital Inverter, Fully Automatic Top Load Washing Machine Grey>]>"
      ]
     },
     "execution_count": 5,
     "metadata": {},
     "output_type": "execute_result"
    }
   ],
   "source": [
    "get_product_with_total_price"
   ]
  },
  {
   "cell_type": "code",
   "execution_count": 6,
   "id": "393fb6d2",
   "metadata": {},
   "outputs": [],
   "source": [
    "from django_pandas.io import read_frame"
   ]
  },
  {
   "cell_type": "code",
   "execution_count": 7,
   "id": "8a28e7ed",
   "metadata": {},
   "outputs": [],
   "source": [
    "df = read_frame(get_product_with_total_price)"
   ]
  },
  {
   "cell_type": "code",
   "execution_count": 8,
   "id": "1a3b9f26",
   "metadata": {},
   "outputs": [
    {
     "data": {
      "text/html": [
       "<div>\n",
       "<style scoped>\n",
       "    .dataframe tbody tr th:only-of-type {\n",
       "        vertical-align: middle;\n",
       "    }\n",
       "\n",
       "    .dataframe tbody tr th {\n",
       "        vertical-align: top;\n",
       "    }\n",
       "\n",
       "    .dataframe thead th {\n",
       "        text-align: right;\n",
       "    }\n",
       "</style>\n",
       "<table border=\"1\" class=\"dataframe\">\n",
       "  <thead>\n",
       "    <tr style=\"text-align: right;\">\n",
       "      <th></th>\n",
       "      <th>customer</th>\n",
       "      <th>product</th>\n",
       "      <th>quantity</th>\n",
       "      <th>total_price</th>\n",
       "    </tr>\n",
       "  </thead>\n",
       "  <tbody>\n",
       "    <tr>\n",
       "      <th>0</th>\n",
       "      <td>Mayank</td>\n",
       "      <td>Men Relaxed Fit Mid Rise Blue Jeans</td>\n",
       "      <td>2</td>\n",
       "      <td>998.0</td>\n",
       "    </tr>\n",
       "    <tr>\n",
       "      <th>1</th>\n",
       "      <td>Mayank</td>\n",
       "      <td>Motorola Edge 50 Fusion (Marshmallow Blue, 256...</td>\n",
       "      <td>1</td>\n",
       "      <td>24999.0</td>\n",
       "    </tr>\n",
       "    <tr>\n",
       "      <th>2</th>\n",
       "      <td>Deqode</td>\n",
       "      <td>SAMSUNG 8 kg 5 star, Ecobubble, Digital Invert...</td>\n",
       "      <td>3</td>\n",
       "      <td>58470.0</td>\n",
       "    </tr>\n",
       "  </tbody>\n",
       "</table>\n",
       "</div>"
      ],
      "text/plain": [
       "  customer                                            product  quantity  \\\n",
       "0   Mayank                Men Relaxed Fit Mid Rise Blue Jeans         2   \n",
       "1   Mayank  Motorola Edge 50 Fusion (Marshmallow Blue, 256...         1   \n",
       "2   Deqode  SAMSUNG 8 kg 5 star, Ecobubble, Digital Invert...         3   \n",
       "\n",
       "   total_price  \n",
       "0        998.0  \n",
       "1      24999.0  \n",
       "2      58470.0  "
      ]
     },
     "execution_count": 8,
     "metadata": {},
     "output_type": "execute_result"
    }
   ],
   "source": [
    "df.loc[:, ['customer','product','quantity','total_price']]"
   ]
  },
  {
   "cell_type": "code",
   "execution_count": 9,
   "id": "30d2791e",
   "metadata": {},
   "outputs": [],
   "source": [
    "get_customer_orders = User.objects.filter(username = \"Mayank\")"
   ]
  },
  {
   "cell_type": "code",
   "execution_count": 10,
   "id": "52386d5f",
   "metadata": {},
   "outputs": [
    {
     "data": {
      "text/plain": [
       "<QuerySet [<User: Mayank>]>"
      ]
     },
     "execution_count": 10,
     "metadata": {},
     "output_type": "execute_result"
    }
   ],
   "source": [
    "get_customer_orders"
   ]
  },
  {
   "cell_type": "code",
   "execution_count": 11,
   "id": "f8fc2646",
   "metadata": {},
   "outputs": [],
   "source": [
    "get_customer_orders = User.objects.filter(username = \"Deqode\").annotate(total_orders = Order.objects.filter(customer_id = OuterRef(\"id\")).values(\"customer_id\"))"
   ]
  },
  {
   "cell_type": "code",
   "execution_count": 12,
   "id": "70b45c23",
   "metadata": {},
   "outputs": [
    {
     "data": {
      "text/plain": [
       "<QuerySet [{'id': 1, 'password': 'pbkdf2_sha256$600000$kVPyPStYJPrXYxBPBZRHM7$YH4LKNqb8PAbB+sz/DaByWZq4n3mInPvVpVIp55NxSA=', 'last_login': datetime.datetime(2024, 7, 3, 9, 8, 12, tzinfo=datetime.timezone.utc), 'is_superuser': True, 'username': 'Deqode', 'first_name': '', 'last_name': '', 'email': 'info@deqode.com', 'is_staff': True, 'is_active': True, 'date_joined': datetime.datetime(2024, 6, 18, 6, 41, 40, tzinfo=datetime.timezone.utc), 'total_orders': 1}]>"
      ]
     },
     "execution_count": 12,
     "metadata": {},
     "output_type": "execute_result"
    }
   ],
   "source": [
    "get_customer_orders.values()"
   ]
  },
  {
   "cell_type": "code",
   "execution_count": 42,
   "id": "03516a6e",
   "metadata": {},
   "outputs": [],
   "source": [
    "get_brand_products = Brand.objects.all().annotate(\n",
    "    total_products = Product.objects.filter(\n",
    "        brand_id = OuterRef(\"uuid\")\n",
    "    ).values(\"brand_id\")\n",
    ")"
   ]
  },
  {
   "cell_type": "code",
   "execution_count": 43,
   "id": "a0b2abb8",
   "metadata": {},
   "outputs": [
    {
     "data": {
      "text/plain": [
       "<QuerySet [{'name': 'UNITED DENIM', 'total_products': 1}, {'name': 'Motorola', 'total_products': 1}, {'name': 'Samsung', 'total_products': 1}]>"
      ]
     },
     "execution_count": 43,
     "metadata": {},
     "output_type": "execute_result"
    }
   ],
   "source": [
    "get_brand_products.values('name','total_products')"
   ]
  },
  {
   "cell_type": "code",
   "execution_count": 44,
   "id": "8c2d72e0",
   "metadata": {},
   "outputs": [],
   "source": [
    "brands_with_total_products = Brand.objects.annotate(\n",
    "    total_products=Subquery(\n",
    "        Product.objects.filter(brand_id=OuterRef('uuid')).values('brand_id').annotate(\n",
    "            count=Count('uuid')\n",
    "        ).values('count')[:1]\n",
    "    )\n",
    ")"
   ]
  },
  {
   "cell_type": "code",
   "execution_count": null,
   "id": "3b87fe03",
   "metadata": {},
   "outputs": [],
   "source": []
  },
  {
   "cell_type": "code",
   "execution_count": null,
   "id": "b0c23854",
   "metadata": {},
   "outputs": [],
   "source": []
  }
 ],
 "metadata": {
  "kernelspec": {
   "display_name": "Django Shell-Plus",
   "language": "python",
   "name": "django_extensions"
  },
  "language_info": {
   "codemirror_mode": {
    "name": "ipython",
    "version": 3
   },
   "file_extension": ".py",
   "mimetype": "text/x-python",
   "name": "python",
   "nbconvert_exporter": "python",
   "pygments_lexer": "ipython3",
   "version": "3.8.10"
  }
 },
 "nbformat": 4,
 "nbformat_minor": 5
}
