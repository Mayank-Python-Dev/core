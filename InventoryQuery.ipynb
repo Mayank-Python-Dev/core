{
 "cells": [
  {
   "cell_type": "code",
   "execution_count": 1,
   "id": "0bcdbd66",
   "metadata": {},
   "outputs": [],
   "source": [
    "from inventory.models import (\n",
    "    Brand,\n",
    "    Category,\n",
    "    Product,\n",
    "    Order\n",
    ")"
   ]
  },
  {
   "cell_type": "code",
   "execution_count": 2,
   "id": "d64ced01",
   "metadata": {},
   "outputs": [
    {
     "data": {
      "text/plain": [
       "<QuerySet [<Product: Men Relaxed Fit Mid Rise Blue Jeans>, <Product: Motorola Edge 50 Fusion (Marshmallow Blue, 256 GB)  (12 GB RAM)>, <Product: SAMSUNG 8 kg 5 star, Ecobubble, Digital Inverter, Fully Automatic Top Load Washing Machine Grey>]>"
      ]
     },
     "execution_count": 2,
     "metadata": {},
     "output_type": "execute_result"
    }
   ],
   "source": [
    "Product.objects.all()"
   ]
  },
  {
   "cell_type": "code",
   "execution_count": 25,
   "id": "a2371eb7",
   "metadata": {},
   "outputs": [],
   "source": [
    "from django.db.models import (\n",
    "    Count,\n",
    "    F,\n",
    "    Sum,\n",
    "    OuterRef,\n",
    "    Value,\n",
    "    IntegerField,\n",
    "    Prefetch,\n",
    "    Q,\n",
    "    ExpressionWrapper,\n",
    "    functions,\n",
    "    CharField,\n",
    "    Case,\n",
    "    When,\n",
    "    Func\n",
    ")"
   ]
  },
  {
   "cell_type": "code",
   "execution_count": 30,
   "id": "cf4a975e",
   "metadata": {},
   "outputs": [],
   "source": [
    "get_product_with_total_price = Order.objects.all().annotate(total_price = Product.objects.filter(uuid = OuterRef(\"product__uuid\")).values(\"price\")).annotate(total_price = F(\"quantity\") * F(\"total_price\"))"
   ]
  },
  {
   "cell_type": "code",
   "execution_count": 31,
   "id": "2626d353",
   "metadata": {},
   "outputs": [
    {
     "data": {
      "text/plain": [
       "<QuerySet [<Order: Men Relaxed Fit Mid Rise Blue Jeans>, <Order: Motorola Edge 50 Fusion (Marshmallow Blue, 256 GB)  (12 GB RAM)>, <Order: SAMSUNG 8 kg 5 star, Ecobubble, Digital Inverter, Fully Automatic Top Load Washing Machine Grey>]>"
      ]
     },
     "execution_count": 31,
     "metadata": {},
     "output_type": "execute_result"
    }
   ],
   "source": [
    "get_product_with_total_price"
   ]
  },
  {
   "cell_type": "code",
   "execution_count": 32,
   "id": "393fb6d2",
   "metadata": {},
   "outputs": [],
   "source": [
    "from django_pandas.io import read_frame"
   ]
  },
  {
   "cell_type": "code",
   "execution_count": 33,
   "id": "8a28e7ed",
   "metadata": {},
   "outputs": [],
   "source": [
    "df = read_frame(get_product_with_total_price)"
   ]
  },
  {
   "cell_type": "code",
   "execution_count": 44,
   "id": "1a3b9f26",
   "metadata": {},
   "outputs": [
    {
     "data": {
      "text/html": [
       "<div>\n",
       "<style scoped>\n",
       "    .dataframe tbody tr th:only-of-type {\n",
       "        vertical-align: middle;\n",
       "    }\n",
       "\n",
       "    .dataframe tbody tr th {\n",
       "        vertical-align: top;\n",
       "    }\n",
       "\n",
       "    .dataframe thead th {\n",
       "        text-align: right;\n",
       "    }\n",
       "</style>\n",
       "<table border=\"1\" class=\"dataframe\">\n",
       "  <thead>\n",
       "    <tr style=\"text-align: right;\">\n",
       "      <th></th>\n",
       "      <th>customer</th>\n",
       "      <th>product</th>\n",
       "      <th>quantity</th>\n",
       "      <th>total_price</th>\n",
       "    </tr>\n",
       "  </thead>\n",
       "  <tbody>\n",
       "    <tr>\n",
       "      <th>0</th>\n",
       "      <td>Mayank</td>\n",
       "      <td>Men Relaxed Fit Mid Rise Blue Jeans</td>\n",
       "      <td>2</td>\n",
       "      <td>998.0</td>\n",
       "    </tr>\n",
       "    <tr>\n",
       "      <th>1</th>\n",
       "      <td>Mayank</td>\n",
       "      <td>Motorola Edge 50 Fusion (Marshmallow Blue, 256...</td>\n",
       "      <td>1</td>\n",
       "      <td>24999.0</td>\n",
       "    </tr>\n",
       "    <tr>\n",
       "      <th>2</th>\n",
       "      <td>Deqode</td>\n",
       "      <td>SAMSUNG 8 kg 5 star, Ecobubble, Digital Invert...</td>\n",
       "      <td>3</td>\n",
       "      <td>58470.0</td>\n",
       "    </tr>\n",
       "  </tbody>\n",
       "</table>\n",
       "</div>"
      ],
      "text/plain": [
       "  customer                                            product  quantity  \\\n",
       "0   Mayank                Men Relaxed Fit Mid Rise Blue Jeans         2   \n",
       "1   Mayank  Motorola Edge 50 Fusion (Marshmallow Blue, 256...         1   \n",
       "2   Deqode  SAMSUNG 8 kg 5 star, Ecobubble, Digital Invert...         3   \n",
       "\n",
       "   total_price  \n",
       "0        998.0  \n",
       "1      24999.0  \n",
       "2      58470.0  "
      ]
     },
     "execution_count": 44,
     "metadata": {},
     "output_type": "execute_result"
    }
   ],
   "source": [
    "df.loc[:, ['customer','product','quantity','total_price']]"
   ]
  },
  {
   "cell_type": "code",
   "execution_count": null,
   "id": "30d2791e",
   "metadata": {},
   "outputs": [],
   "source": []
  }
 ],
 "metadata": {
  "kernelspec": {
   "display_name": "Django Shell-Plus",
   "language": "python",
   "name": "django_extensions"
  },
  "language_info": {
   "codemirror_mode": {
    "name": "ipython",
    "version": 3
   },
   "file_extension": ".py",
   "mimetype": "text/x-python",
   "name": "python",
   "nbconvert_exporter": "python",
   "pygments_lexer": "ipython3",
   "version": "3.8.10"
  }
 },
 "nbformat": 4,
 "nbformat_minor": 5
}
